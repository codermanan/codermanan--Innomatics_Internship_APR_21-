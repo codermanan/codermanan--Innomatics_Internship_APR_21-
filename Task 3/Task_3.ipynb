{
  "nbformat": 4,
  "nbformat_minor": 0,
  "metadata": {
    "colab": {
      "name": "Task 3.ipynb",
      "provenance": []
    },
    "kernelspec": {
      "name": "python3",
      "display_name": "Python 3"
    },
    "language_info": {
      "name": "python"
    }
  },
  "cells": [
    {
      "cell_type": "code",
      "metadata": {
        "id": "y16H6K2v6j9h"
      },
      "source": [
        "# Polar Coordinates\n",
        "import cmath\n",
        "print(*cmath.polar(complex(input())), sep='\\n')"
      ],
      "execution_count": null,
      "outputs": []
    },
    {
      "cell_type": "code",
      "metadata": {
        "id": "LuycFNRR7E4V"
      },
      "source": [
        "import math\n",
        "\n",
        "c, a = int(input()), int(input())\n",
        "\n",
        "b = (c**2 + a **2)**0.5\n",
        "\n",
        "C = math.acos((b**2 + a**2 - c**2) / (2*a*b))\n",
        "\n",
        "print(round((180/math.pi)*C),u\"\\u00b0\", sep=\"\")"
      ],
      "execution_count": null,
      "outputs": []
    },
    {
      "cell_type": "code",
      "metadata": {
        "id": "Re4VrZvp8o2H"
      },
      "source": [
        "a=int(raw_input())\n",
        "b=int(raw_input())\n",
        "\n",
        "print a/b\n",
        "print a%b\n",
        "print divmod(a,b)"
      ],
      "execution_count": null,
      "outputs": []
    },
    {
      "cell_type": "code",
      "metadata": {
        "id": "Xq6zw4IuBwJd"
      },
      "source": [
        "a=int(raw_input())\n",
        "b=int(raw_input())\n",
        "c=int(raw_input())\n",
        "\n",
        "print pow(a,b)\n",
        "print pow(a,b,c)"
      ],
      "execution_count": null,
      "outputs": []
    },
    {
      "cell_type": "code",
      "metadata": {
        "id": "GVV5qEYyGzdQ"
      },
      "source": [
        "a=int(input())\n",
        "b=int(input())\n",
        "c=int(input())\n",
        "d=int(input())\n",
        "\n",
        "print a**b + c**d"
      ],
      "execution_count": null,
      "outputs": []
    },
    {
      "cell_type": "code",
      "metadata": {
        "id": "cmyhaV_QdCcL"
      },
      "source": [
        "for i in range(1,int(input())): #More than 2 lines will result in 0 score. Do not leave a blank line also\n",
        "    print((10**i)//9*i)"
      ],
      "execution_count": null,
      "outputs": []
    },
    {
      "cell_type": "code",
      "metadata": {
        "id": "AgjS0hAvdfWj"
      },
      "source": [
        "for i in range(1,int(input())+1): #More than 2 lines will result in 0 score. Do not leave a blank line also\n",
        "    print(((10**i - 1)//9)**2)"
      ],
      "execution_count": null,
      "outputs": []
    }
  ]
}