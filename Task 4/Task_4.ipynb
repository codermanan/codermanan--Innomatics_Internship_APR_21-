{
  "nbformat": 4,
  "nbformat_minor": 0,
  "metadata": {
    "colab": {
      "name": "Task 4.ipynb",
      "provenance": []
    },
    "kernelspec": {
      "name": "python3",
      "display_name": "Python 3"
    },
    "language_info": {
      "name": "python"
    }
  },
  "cells": [
    {
      "cell_type": "code",
      "metadata": {
        "id": "DFh1EL0JfOz7"
      },
      "source": [
        "def swap_case(s):\n",
        "    \n",
        "\n",
        "    x=s.swapcase()\n",
        "    return x"
      ],
      "execution_count": null,
      "outputs": []
    },
    {
      "cell_type": "code",
      "metadata": {
        "id": "SHKN0FYChLL_"
      },
      "source": [
        "def print_full_name(first, last):\n",
        "    # Write your code here\n",
        "    first = first_name\n",
        "    last = last_name\n",
        "    x = \"Hello \"+first+\" \"+last+\"! You just delved into python.\"\n",
        "    print(x)"
      ],
      "execution_count": null,
      "outputs": []
    },
    {
      "cell_type": "code",
      "metadata": {
        "id": "5B4TJjyrn6gm"
      },
      "source": [
        "def mutate_string(string, position, character):\n",
        "    string = s\n",
        "    i = position\n",
        "    c = character\n",
        "  \n",
        "    return s[:i] + c + s[(i+1):]"
      ],
      "execution_count": null,
      "outputs": []
    },
    {
      "cell_type": "code",
      "metadata": {
        "id": "qfyp6I3tpiig"
      },
      "source": [
        "def count_substring(string, sub_string):\n",
        "    \n",
        "    small_len = len(sub_string)\n",
        "    count = 0\n",
        "\n",
        "    for i in range(len(string[:-small_len + 1])):\n",
        "        if(string[i:i+small_len] == sub_string):\n",
        "            count += 1\n",
        "\n",
        "    return count"
      ],
      "execution_count": null,
      "outputs": []
    },
    {
      "cell_type": "code",
      "metadata": {
        "id": "__GxN-DUpjxT"
      },
      "source": [
        "def merge_the_tools(string, k):\n",
        "    # your code goes here\n",
        "    s = string\n",
        "\n",
        "    i = 0\n",
        "    map, to_print = {}, \"\"\n",
        "    while i < len(s):\n",
        "        if i % k == 0 and i != 0:\n",
        "            print(to_print)\n",
        "            map, to_print = {}, \"\"\n",
        "        if s[i] not in map.keys():\n",
        "            map[s[i]] = 0\n",
        "            to_print += s[i]\n",
        "        i += 1\n",
        "    print(to_print)"
      ],
      "execution_count": null,
      "outputs": []
    },
    {
      "cell_type": "code",
      "metadata": {
        "id": "ZdklE973p9jG"
      },
      "source": [
        "def minion_game(string):\n",
        "    \n",
        "    N = len(s)\n",
        "    c_count, v_count = 0, 0\n",
        "    i = 0\n",
        "    while i < N:\n",
        "        if s[i] in ['A', 'E', 'I', 'O', 'U']:\n",
        "            v_count += len(s) - i\n",
        "        else:\n",
        "            c_count += len(s) - i\n",
        "        i += 1\n",
        "    if c_count == v_count:\n",
        "        print(\"Draw\")\n",
        "    elif c_count > v_count:\n",
        "        print(\"Stuart \" + str(c_count))\n",
        "    else:\n",
        "        print(\"Kevin \" + str(v_count))"
      ],
      "execution_count": null,
      "outputs": []
    },
    {
      "cell_type": "code",
      "metadata": {
        "id": "7szpjlBSqrqy"
      },
      "source": [
        "def split_and_join(line):\n",
        "    \n",
        "    # write your code here\n",
        "    \n",
        "    S = line.split()\n",
        "\n",
        "    return '-'.join(S)"
      ],
      "execution_count": null,
      "outputs": []
    },
    {
      "cell_type": "code",
      "metadata": {
        "id": "0wCXxSvHsFNb"
      },
      "source": [
        "def print_rangoli(size):\n",
        "    # your code goes here\n",
        "\n",
        "    for i in range(n-1,-1,-1):\n",
        "        for j in range(i):\n",
        "            print(end=\"--\")\n",
        "        for j in range(n-1,i,-1):\n",
        "            print(chr(j+97),end=\"-\")\n",
        "        for j in range(i,n):\n",
        "            if j != n-1:\n",
        "                print(chr(j+97),end=\"-\")\n",
        "            else:\n",
        "                print(chr(j+97),end=\"\")\n",
        "        for j in range(2*i):\n",
        "            print(end=\"-\")\n",
        "        print()\n",
        "    for i in range(1,n):\n",
        "        for j in range(i):\n",
        "            print(end=\"--\")\n",
        "        for j in range(n-1,i,-1):\n",
        "            print(chr(j+97),end=\"-\")\n",
        "        for j in range(i,n):\n",
        "            if j != n-1:\n",
        "                print(chr(j+97),end=\"-\")\n",
        "            else:\n",
        "                print(chr(j+97),end=\"\")\n",
        "        for j in range(2*i):\n",
        "            print(end=\"-\")\n",
        "        print()\n"
      ],
      "execution_count": null,
      "outputs": []
    },
    {
      "cell_type": "code",
      "metadata": {
        "id": "6_R9OX-sEnf9"
      },
      "source": [
        "#Replace all ______ with rjust, ljust or center. \n",
        "\n",
        "thickness = int(input()) #This must be an odd number\n",
        "c = 'H'\n",
        "\n",
        "\n",
        "#Top Cone\n",
        "for i in range(thickness):\n",
        "    print((c*i).rjust(thickness-1)+c+(c*i).ljust(thickness-1))\n",
        "\n",
        "#Top Pillars\n",
        "for i in range(thickness+1):\n",
        "    print((c*thickness).center(thickness*2)+(c*thickness).center(thickness*6))\n",
        "\n",
        "#Middle Belt\n",
        "for i in range((thickness+1)//2):\n",
        "    print((c*thickness*5).center(thickness*6))    \n",
        "\n",
        "#Bottom Pillars\n",
        "for i in range(thickness+1):\n",
        "    print((c*thickness).center(thickness*2)+(c*thickness).center(thickness*6))    \n",
        "\n",
        "#Bottom Cone\n",
        "for i in range(thickness):\n",
        "    print(((c*(thickness-i-1)).rjust(thickness)+c+(c*(thickness-i-1)).ljust(thickness)).rjust(thickness*6)) "
      ],
      "execution_count": null,
      "outputs": []
    },
    {
      "cell_type": "code",
      "metadata": {
        "id": "UxvnDW1yLNC7"
      },
      "source": [
        "import textwrap\n",
        "\n",
        "def wrap(string, max_width):\n",
        "    \n",
        "\n",
        "    s = string\n",
        "    w = max_width\n",
        "    return textwrap.fill(s,w)"
      ],
      "execution_count": null,
      "outputs": []
    },
    {
      "cell_type": "code",
      "metadata": {
        "id": "XzFonWaALtz1"
      },
      "source": [
        "N, M = map(int,input().split()) # More than 6 lines of code will result in 0 score. Blank lines are not counted.\n",
        "for i in range(1,N,2): \n",
        "    print(((M-3*i)//2)*'-'+i*'.|.'+((M-3*i)//2)*'-')\n",
        "print(((M-7)//2)*'-'+'WELCOME'+((M-7)//2)*'-')\n",
        "for i in range(N-2,-1,-2): \n",
        "    print(((M-3*i)//2)*'-'+i*'.|.'+((M-3*i)//2)*'-')"
      ],
      "execution_count": null,
      "outputs": []
    },
    {
      "cell_type": "code",
      "metadata": {
        "id": "yHqJN5uAL-TC"
      },
      "source": [
        "import sys\n",
        "def print_formatted(number):\n",
        "    # your code goes here\n",
        "\n",
        "    stdin = sys.stdin\n",
        "\n",
        "    \n",
        "    m = n\n",
        "    w = 0\n",
        "    while m > 0:\n",
        "        m //= 2\n",
        "        w += 1\n",
        "    fom = \"{0:\" + str(w) + \"d} \" +\"{0:\" + str(w) + \"o} \" +\"{0:\" + str(w) + \"X} \" +\"{0:\" + str(w) + \"b} \"\n",
        "\n",
        "    for i in range(1,n+1):\n",
        "        print(fom.format(i))"
      ],
      "execution_count": null,
      "outputs": []
    },
    {
      "cell_type": "code",
      "metadata": {
        "id": "uznFhKmkQ6fm"
      },
      "source": [
        "if __name__ == '__main__':\n",
        "\n",
        "    inp = input()\n",
        "    print(any(x.isalnum() for x in inp))\n",
        "    print(any(x.isalpha() for x in inp))\n",
        "    print(any(x.isdigit() for x in inp))\n",
        "    print(any(x.islower() for x in inp))\n",
        "    print(any(x.isupper() for x in inp))"
      ],
      "execution_count": null,
      "outputs": []
    }
  ]
}