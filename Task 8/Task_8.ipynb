{
  "nbformat": 4,
  "nbformat_minor": 0,
  "metadata": {
    "colab": {
      "name": "Task 8.ipynb",
      "provenance": []
    },
    "kernelspec": {
      "name": "python3",
      "display_name": "Python 3"
    },
    "language_info": {
      "name": "python"
    }
  },
  "cells": [
    {
      "cell_type": "code",
      "metadata": {
        "id": "_6JpdMYufDik"
      },
      "source": [
        "from math import factorial\n",
        "\n",
        "#b,g = [float(i) for i in input().strip().split(' ')]\n",
        "b=1.09\n",
        "g=1\n",
        "#print(b,g)\n",
        "n=6\n",
        "\n",
        "p = b / (b+g) \n",
        "q = 1-p\n",
        "#print(p,q)\n",
        "b3 = factorial(n)/(factorial(3)*factorial(n-3))* p**3 * q**(n-3)\n",
        "b4 = factorial(n)/(factorial(4)*factorial(n-4))* p**4 * q**(n-4)\n",
        "b5 = factorial(n)/(factorial(5)*factorial(n-5))* p**5 * q**(n-5)\n",
        "b6 = factorial(n)/(factorial(6)*factorial(n-6))* p**6 * q**(n-6)\n",
        "print(round(b3+b4+b5+b6,3))"
      ],
      "execution_count": null,
      "outputs": []
    },
    {
      "cell_type": "code",
      "metadata": {
        "id": "qs1v-AdqfIhe"
      },
      "source": [
        "from math import factorial\n",
        "\n",
        "p = 12/100.0\n",
        "q = 1-p\n",
        "\n",
        "N = 10\n",
        "\n",
        "B0 = factorial(N)/(factorial(0)*factorial(N-0)) * p**0 * q**(N-0)\n",
        "B1 = factorial(N)/(factorial(1)*factorial(N-1)) * p**1 * q**(N-1)\n",
        "B2 = factorial(N)/(factorial(2)*factorial(N-2)) * p**2 * q**(N-2)\n",
        "\n",
        "print(round(B0+B1+B2,3))\n",
        "print(round(1-(B0+B1),3))"
      ],
      "execution_count": null,
      "outputs": []
    },
    {
      "cell_type": "code",
      "metadata": {
        "id": "V6GXPCiSmkUt"
      },
      "source": [
        "from math import sqrt,erf\n",
        "mu = 20\n",
        "stdev = 2\n",
        "\n",
        "x_test1 = 19.5\n",
        "\n",
        "x_testA = 20\n",
        "x_testB = 22\n",
        "\n",
        "\n",
        "\n",
        "print(round(0.5*(1+erf((x_test1-mu)/(sqrt(2)*stdev))),3))\n",
        "print(round(0.682689492137/2,3))"
      ],
      "execution_count": null,
      "outputs": []
    },
    {
      "cell_type": "code",
      "metadata": {
        "id": "mzGsKzjmnNHZ"
      },
      "source": [
        "import math\n",
        "q1 = 1 - (.5 * (1 + math.erf((80 - 70)/(math.sqrt(2)*10))))\n",
        "q2 = 1 - (.5 * (1 + math.erf((60 - 70)/(math.sqrt(2)*10))))\n",
        "q3 = .5 * (1 + math.erf((60 - 70)/(math.sqrt(2)*10)))\n",
        "\n",
        "print(\"%.2f\" %(q1*100))\n",
        "print(\"%.2f\" %(q2*100))\n",
        "print(\"%.2f\" %(q3*100))"
      ],
      "execution_count": null,
      "outputs": []
    },
    {
      "cell_type": "code",
      "metadata": {
        "id": "DYDu88GErLjM"
      },
      "source": [
        "import math\n",
        "\n",
        "def cdf(x, m, sd):\n",
        "    return 0.5 * (1 + math.erf((x - m)/(sd * math.sqrt(2))))\n",
        "    \n",
        "\n",
        "max_weight = 9800\n",
        "n = 49\n",
        "m = 205\n",
        "sd = 15\n",
        "\n",
        "print(\"%.4f\" % round(cdf(max_weight, n * m, math.sqrt(n) * sd), 4))"
      ],
      "execution_count": null,
      "outputs": []
    },
    {
      "cell_type": "code",
      "metadata": {
        "id": "XSAhpRaHrjnF"
      },
      "source": [
        "import math\n",
        "\n",
        "def cdf(x, m, sd):\n",
        "    return 0.5 * (1 + math.erf((x - m)/(sd * math.sqrt(2))))\n",
        "    \n",
        "\n",
        "max_weight = 250\n",
        "n = 100\n",
        "m = 2.4\n",
        "sd = 2.0\n",
        "\n",
        "print(\"%.4f\" % round(cdf(max_weight, n * m, math.sqrt(n) * sd), 4))"
      ],
      "execution_count": null,
      "outputs": []
    },
    {
      "cell_type": "code",
      "metadata": {
        "id": "bM6ZEeTrr2Dd"
      },
      "source": [
        "n = 100\n",
        "m = 500\n",
        "sd = 80\n",
        "a = 0.95\n",
        "z = 1.96\n",
        "\n",
        "print(\"%.2f\" % round(m - z * sd/10, 2))\n",
        "print(\"%.2f\" % round(m + z * sd/10, 2))"
      ],
      "execution_count": null,
      "outputs": []
    },
    {
      "cell_type": "code",
      "metadata": {
        "id": "G-BrvntPsBIK"
      },
      "source": [
        "from math import sqrt\n",
        "N = int(input().strip())\n",
        "X = [float(i) for i in input().strip().split(' ')]\n",
        "Y = [float(i) for i in input().strip().split(' ')]\n",
        "\n",
        "mu_x = sum(X)/N\n",
        "mu_y = sum(Y)/N\n",
        "#print(mu_x,mu_y, sep=' - ')\n",
        "\n",
        "sigma_x = sqrt(sum([(i-mu_x)**2 for i in X])/N)\n",
        "sigma_y = sqrt(sum([(i-mu_y)**2 for i in Y])/N)\n",
        "#print(sigma_x,sigma_y, sep=' - ')\n",
        "\n",
        "rho = sum([(X[i]-mu_x)*(Y[i]-mu_y) for i in range(N)])/(N*sigma_x*sigma_y)\n",
        "\n",
        "print('{:.3f}'.format(rho))"
      ],
      "execution_count": null,
      "outputs": []
    },
    {
      "cell_type": "code",
      "metadata": {
        "id": "mr5zbwSRsPBi"
      },
      "source": [
        "n = 5\n",
        "xArr = [95,85,80,70,60]\n",
        "yArr = [85,95,70,65,70] \n",
        "xMean = sum(xArr)/n\n",
        "yMean = sum(yArr)/n\n",
        "xVariance = 0\n",
        "for x in xArr:\n",
        "    xVariance = xVariance + (x - xMean)**2\n",
        "xVariance = xVariance * 1/n\n",
        "xStdDev = xVariance**.5\n",
        "yVariance = 0\n",
        "for y in yArr:\n",
        "    yVariance = yVariance + (y - yMean)**2\n",
        "yVariance = 1/n * yVariance\n",
        "yStdDev = yVariance**.5\n",
        "pearson = 0\n",
        "for i in range(n):\n",
        "    pearson = pearson + (xArr[i] - xMean)*(yArr[i] - yMean)\n",
        "pearson = pearson/(n*xStdDev *yStdDev)\n",
        "b = pearson * yStdDev / xStdDev\n",
        "a = yMean - b * xMean\n",
        "print(\"%.3f\" % (a + b*80))"
      ],
      "execution_count": null,
      "outputs": []
    },
    {
      "cell_type": "code",
      "metadata": {
        "id": "_gmAAQX5xXGg"
      },
      "source": [
        "from sklearn import linear_model\n",
        "\n",
        "m,n = [int(x) for x in input().split(' ')]\n",
        "x = []\n",
        "y = []\n",
        "for i in range(n):\n",
        "    arr = [float(x) for x in input().split(' ')]\n",
        "    x.append(arr[:-1])\n",
        "    y.append(arr[-1])\n",
        "\n",
        "lm = linear_model.LinearRegression()\n",
        "lm.fit(x, y)\n",
        "a = lm.intercept_\n",
        "b = lm.coef_\n",
        "q = int(input())\n",
        "for i in range(q):\n",
        "    arr = [float(x) for x in input().split(' ')]\n",
        "    ans = a\n",
        "    for j in range(m):\n",
        "        ans = ans + arr[j]*b[j]\n",
        "    print(\"%.2f\" % ans)"
      ],
      "execution_count": null,
      "outputs": []
    }
  ]
}