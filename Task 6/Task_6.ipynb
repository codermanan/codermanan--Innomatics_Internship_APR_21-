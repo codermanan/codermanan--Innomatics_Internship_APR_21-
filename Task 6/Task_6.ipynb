{
  "nbformat": 4,
  "nbformat_minor": 0,
  "metadata": {
    "colab": {
      "name": "Task 6.ipynb",
      "provenance": []
    },
    "kernelspec": {
      "name": "python3",
      "display_name": "Python 3"
    },
    "language_info": {
      "name": "python"
    }
  },
  "cells": [
    {
      "cell_type": "code",
      "metadata": {
        "id": "PiHbIh8PYZqd"
      },
      "source": [
        "\n",
        "def arrays(arr):\n",
        "    # complete this function\n",
        "    # use numpy.array\n",
        "    return(numpy.array(arr[::-1], float))"
      ],
      "execution_count": null,
      "outputs": []
    },
    {
      "cell_type": "code",
      "metadata": {
        "id": "v5p8uRi1Y29M"
      },
      "source": [
        "import numpy\n",
        "\n",
        "a=numpy.array(list(map(int,input().split())))\n",
        "print(numpy.reshape(a,(3,3)))"
      ],
      "execution_count": null,
      "outputs": []
    },
    {
      "cell_type": "code",
      "metadata": {
        "id": "cDDqTF_MZOLM"
      },
      "source": [
        "import numpy\n",
        "\n",
        "n,m=map(int,input().split())\n",
        "\n",
        "lista=[list(map(int,input().split())) for i in range(n)]\n",
        "a=numpy.array(lista)\n",
        "\n",
        "print(numpy.transpose(a))\n",
        "print(a.flatten())"
      ],
      "execution_count": null,
      "outputs": []
    },
    {
      "cell_type": "code",
      "metadata": {
        "id": "xwdJEzFAZh5U"
      },
      "source": [
        "import numpy\n",
        "\n",
        "n,m,p=map(int,input().split())\n",
        "\n",
        "lista1=[list(map(int,input().split())) for i in range(n)]\n",
        "lista2=[list(map(int,input().split())) for i in range(m)]\n",
        "a1=numpy.array(lista1)\n",
        "a2=numpy.array(lista2)\n",
        "\n",
        "print(numpy.concatenate((a1,a2),axis=0))"
      ],
      "execution_count": null,
      "outputs": []
    },
    {
      "cell_type": "code",
      "metadata": {
        "id": "qbbDhcf1aCxP"
      },
      "source": [
        "import numpy\n",
        "\n",
        "size = tuple(map(int,input().strip().split()))\n",
        "print( numpy.zeros(size, int) )\n",
        "print( numpy.ones(size, int) )"
      ],
      "execution_count": null,
      "outputs": []
    },
    {
      "cell_type": "code",
      "metadata": {
        "id": "MQp4BJrdaS9N"
      },
      "source": [
        "import numpy\n",
        "\n",
        "n,m=map(int,input().split())\n",
        "A=numpy.array([list(map(int,input().split())) for i in range(n)])\n",
        "B=numpy.array([list(map(int,input().split())) for i in range(n)])\n",
        "print(A+B,A-B,A*B,A//B,A%B,A**B,sep='\\n')"
      ],
      "execution_count": null,
      "outputs": []
    },
    {
      "cell_type": "code",
      "metadata": {
        "id": "ziI8msMKbVpr"
      },
      "source": [
        "import numpy\n",
        "\n",
        "A = numpy.array([float(i) for i in input().strip().split()])\n",
        "\n",
        "print(numpy.floor(A))\n",
        "print(numpy.ceil(A))\n",
        "print(numpy.rint(A))"
      ],
      "execution_count": null,
      "outputs": []
    },
    {
      "cell_type": "code",
      "metadata": {
        "id": "Wg51DOEwbpyV"
      },
      "source": [
        "import numpy\n",
        "\n",
        "n,m=map(int,input().split())\n",
        "\n",
        "array=[list(map(int,input().split())) for i in range(n)]\n",
        "print(numpy.prod(numpy.sum(array,axis=0),None))"
      ],
      "execution_count": null,
      "outputs": []
    },
    {
      "cell_type": "code",
      "metadata": {
        "id": "eQPNZXurb3-d"
      },
      "source": [
        "import numpy\n",
        "\n",
        "n,m=map(int,input().split())\n",
        "\n",
        "lista=[list(map(int,input().split())) for i in range(n)]\n",
        "\n",
        "ar=numpy.array(lista)\n",
        "\n",
        "print(max(numpy.min(ar,axis=1)))"
      ],
      "execution_count": null,
      "outputs": []
    },
    {
      "cell_type": "code",
      "metadata": {
        "id": "eWbiXmyqcGTm"
      },
      "source": [
        "import numpy\n",
        "\n",
        "n,m=map(int,input().split())\n",
        "\n",
        "a=numpy.array([list(map(int,input().split())) for i in range(n)])\n",
        "print(numpy.mean(a,axis=1))\n",
        "print(numpy.var(a,axis=0))\n",
        "print(numpy.std(a,None))"
      ],
      "execution_count": null,
      "outputs": []
    },
    {
      "cell_type": "code",
      "metadata": {
        "id": "KpiAiaHRcVdL"
      },
      "source": [
        "import numpy\n",
        "\n",
        "n=int(input())\n",
        "A=[list(map(int,input().split())) for i in range(n)]\n",
        "B=[list(map(int,input().split())) for i in range(n)]\n",
        "\n",
        "print(numpy.dot(A,B))"
      ],
      "execution_count": null,
      "outputs": []
    },
    {
      "cell_type": "code",
      "metadata": {
        "id": "endeWgWdciA_"
      },
      "source": [
        "import numpy\n",
        "\n",
        "A=list(map(int,input().split()))\n",
        "B=list(map(int,input().split()))\n",
        "\n",
        "print(numpy.inner(A,B))\n",
        "print(numpy.outer(A,B))"
      ],
      "execution_count": null,
      "outputs": []
    },
    {
      "cell_type": "code",
      "metadata": {
        "id": "NmgFHnCXct04"
      },
      "source": [
        "import numpy\n",
        "\n",
        "coefs=list(map(float,input().split()))\n",
        "x=float(input())\n",
        "\n",
        "print(numpy.polyval(coefs,x))"
      ],
      "execution_count": null,
      "outputs": []
    },
    {
      "cell_type": "code",
      "metadata": {
        "id": "VyQQmoGLc5Kl"
      },
      "source": [
        "import numpy\n",
        "\n",
        "array=[list(map(float,input().split())) for i in range(int(input()))]\n",
        "print(numpy.linalg.det(array))"
      ],
      "execution_count": null,
      "outputs": []
    }
  ]
}