{
  "nbformat": 4,
  "nbformat_minor": 0,
  "metadata": {
    "colab": {
      "name": "Task_2.ipynb",
      "provenance": []
    },
    "kernelspec": {
      "name": "python3",
      "display_name": "Python 3"
    },
    "language_info": {
      "name": "python"
    }
  },
  "cells": [
    {
      "cell_type": "code",
      "metadata": {
        "id": "9qIch4qQCW7C"
      },
      "source": [
        "# Q. Find the Runner-Up Score!\n",
        "if __name__ == '__main__':\n",
        "    i = int(input())\n",
        "    lis = list(map(int,raw_input().strip().split()))[:i]\n",
        "    z = max(lis)\n",
        "    while max(lis) == z:\n",
        "        lis.remove(max(lis))\n",
        "\n",
        "print max(lis)\n"
      ],
      "execution_count": null,
      "outputs": []
    },
    {
      "cell_type": "code",
      "metadata": {
        "id": "4W4OZ3uRCm_E"
      },
      "source": [
        "#Q.List Comprehensions\n",
        "X = int(input())\n",
        "Y = int(input())\n",
        "Z = int(input())\n",
        "N = int(input())\n",
        "answer = [[x, y, z] for x in range(X+1) for y in range(Y+1) for z in range(Z+1) if x+y+z<>N]\n",
        "print answer"
      ],
      "execution_count": null,
      "outputs": []
    },
    {
      "cell_type": "code",
      "metadata": {
        "id": "pWVCMHCuDOjh"
      },
      "source": [
        "#Q.Nested Lists\n",
        "\n",
        "N = int(input())\n",
        "mini = 101\n",
        "mini2 = 102\n",
        "a = []\n",
        "for i in range(N):\n",
        "    name = raw_input()\n",
        "    mark = float(input())\n",
        "    if mark<mini:\n",
        "        mini2 = mini\n",
        "        mini = mark\n",
        "    elif mark<>mini and mark<mini2:\n",
        "        mini2 = mark\n",
        "    a.append([name, mark])\n",
        "b = [x[0] for x in a if x[1]==mini2]\n",
        "b.sort()\n",
        "for y in b:\n",
        "    print y"
      ],
      "execution_count": null,
      "outputs": []
    },
    {
      "cell_type": "code",
      "metadata": {
        "id": "yU1ncyHEDtfg"
      },
      "source": [
        "#Q. Finding the percentage\n",
        "N = int(input())\n",
        "a = dict()\n",
        "for i in range(N):\n",
        "    record = raw_input().split()\n",
        "    a[record[0]] = (float(record[1])+float(record[2])+float(record[3]))/3\n",
        "print(\"%.2f\" % a[raw_input()])"
      ],
      "execution_count": null,
      "outputs": []
    },
    {
      "cell_type": "code",
      "metadata": {
        "id": "VAuMJh0UEK5R"
      },
      "source": [
        "#Q. Tuples\n",
        "n=int(raw_input())\n",
        "\n",
        "T=tuple([int(i) for i in raw_input().split()])\n",
        "\n",
        "print hash(T)"
      ],
      "execution_count": null,
      "outputs": []
    },
    {
      "cell_type": "code",
      "metadata": {
        "id": "vIoZNAO1Hjd1"
      },
      "source": [
        "# List\n",
        "test =int(input())\n",
        "s=[]\n",
        "for _ in range (test):\n",
        "    cmd=list(input().split())\n",
        "    \n",
        "    if cmd[0]=='insert':\n",
        "        s.insert(int(cmd[1]),int(cmd[2]))\n",
        "    elif cmd[0]==\"remove\":\n",
        "        s.remove(int(cmd[1]))\n",
        "    elif cmd[0]==\"append\":\n",
        "        s.append(int(cmd[1]))\n",
        "    elif cmd[0]==\"sort\":\n",
        "        s.sort()\n",
        "    elif cmd[0]==\"pop\":\n",
        "        s.pop()\n",
        "    elif cmd[0]==\"reverse\":\n",
        "        s.reverse()\n",
        "    elif cmd[0]==\"count\":\n",
        "        v=s.count(int(cmd[1]))\n",
        "        print(v)\n",
        "    elif cmd[0]==\"index\":\n",
        "        x=s.index(int(cmd[1]))\n",
        "        print(x)\n",
        "   \n",
        "    elif cmd[0]== 'print':\n",
        "        print(s)"
      ],
      "execution_count": null,
      "outputs": []
    },
    {
      "cell_type": "code",
      "metadata": {
        "id": "Y0lUyDl3JOJz"
      },
      "source": [
        "#Q. Check Strict Superset\n",
        "s = set(input().split())\n",
        "ans = True\n",
        "for i in range(int(input())):\n",
        "    t = set(input().split())\n",
        "    if (s > t) == False:\n",
        "        ans = False\n",
        "        break\n",
        "print(ans)        "
      ],
      "execution_count": null,
      "outputs": []
    },
    {
      "cell_type": "code",
      "metadata": {
        "id": "JhK4H_DGJUh4"
      },
      "source": [
        "#Q. Check Subset\n",
        "for i in range(int(raw_input())): \n",
        "    a = int(raw_input()); A = set(raw_input().split()); \n",
        "    b = int(raw_input()); B = set(raw_input().split());\n",
        "    print A <= B"
      ],
      "execution_count": null,
      "outputs": []
    },
    {
      "cell_type": "code",
      "metadata": {
        "id": "PgOLp8daJ3Qq"
      },
      "source": [
        "#The Captain's Room\n",
        "K = int(raw_input())\n",
        "\n",
        "\n",
        "roomList = map(int,raw_input().split(' '))\n",
        "\n",
        "roomSet = set(roomList) \n",
        "sumRoomSet = sum(roomSet) \n",
        "sumRoomList = sum(roomList) \n",
        "\n",
        "temp = sumRoomSet * K - sumRoomList \n",
        "\n",
        "answer = temp / (K - 1) \n",
        "\n",
        "print answer"
      ],
      "execution_count": null,
      "outputs": []
    },
    {
      "cell_type": "code",
      "metadata": {
        "id": "eiSOkxkoKZEn"
      },
      "source": [
        "# Set .union() Operation\n",
        "n = int(input())\n",
        "s = set(map(int, input().split()))\n",
        "m = int(input())\n",
        "t = set(map(int, input().split()))\n",
        "print(len(s | t))"
      ],
      "execution_count": null,
      "outputs": []
    },
    {
      "cell_type": "code",
      "metadata": {
        "id": "Ol4CbLQ2MJqn"
      },
      "source": [
        "# Set Mutations\n",
        "a = int(raw_input())\n",
        "A = set(map(int, raw_input().split(' ')))\n",
        "for i in range(int(raw_input())):\n",
        "    s, b = raw_input().split(' ')\n",
        "    if s == 'intersection_update':\n",
        "        A &= set(map(int, raw_input().split(' ')))\n",
        "    elif s == 'update':\n",
        "        A |= set(map(int, raw_input().split(' ')))\n",
        "    elif s == 'symmetric_difference_update':\n",
        "        A ^= set(map(int, raw_input().split(' ')))\n",
        "    else:\n",
        "        A -= set(map(int, raw_input().split(' ')))\n",
        "print sum(A)  "
      ],
      "execution_count": null,
      "outputs": []
    },
    {
      "cell_type": "code",
      "metadata": {
        "id": "JhBG3QNzM4Ma"
      },
      "source": [
        "#Set .symmetric_difference() Operation\n",
        "E = int(input())\n",
        "English = set(input().split())\n",
        "\n",
        "F = int(input())\n",
        "French = set(input().split())\n",
        "\n",
        "print(len(English ^ French))"
      ],
      "execution_count": null,
      "outputs": []
    },
    {
      "cell_type": "code",
      "metadata": {
        "id": "S5rkN_5RM49E"
      },
      "source": [
        "# Set .difference() Operation\n",
        "n = int(input())\n",
        "s = set(map(int, input().split()))\n",
        "m = int(input())\n",
        "t = set(map(int, input().split()))\n",
        "print(len(s - t))"
      ],
      "execution_count": null,
      "outputs": []
    },
    {
      "cell_type": "code",
      "metadata": {
        "id": "oKgkfmgVNUOU"
      },
      "source": [
        "# Set .intersection() Operation\n",
        "n = int(input())\n",
        "s = set(map(int, input().split()))\n",
        "m = int(input())\n",
        "t = set(map(int, input().split()))\n",
        "print(len(s & t))"
      ],
      "execution_count": null,
      "outputs": []
    },
    {
      "cell_type": "code",
      "metadata": {
        "id": "yfKrphCtNoDt"
      },
      "source": [
        "# Set .discard(), .remove() & .pop()\n",
        "n = input()\n",
        "s = set(map(int, input().split()))\n",
        "for i in range(int(input())):\n",
        "    c = input().split()\n",
        "    if c[0] == 'pop':\n",
        "        s.pop()\n",
        "    elif c == 'remove':\n",
        "        s.remove(int(c[1]))\n",
        "    else:\n",
        "        s.discard(int(c[1]))\n",
        "print(sum(s))"
      ],
      "execution_count": null,
      "outputs": []
    },
    {
      "cell_type": "code",
      "metadata": {
        "id": "YKe5Vd0bODKF"
      },
      "source": [
        "# Set .add()\n",
        "\n",
        "s = set()\n",
        "for i in range(int(input())):\n",
        "    s.add(input())\n",
        "print(len(s))    \n",
        "    "
      ],
      "execution_count": null,
      "outputs": []
    },
    {
      "cell_type": "code",
      "metadata": {
        "id": "Gwpg6xX-OXEy"
      },
      "source": [
        "#Symmetric Difference\n",
        "N = int(input())\n",
        "set1 = set(map(int, raw_input().split()))\n",
        "M = int(input())\n",
        "set2 = set(map(int, raw_input().split()))\n",
        "C = set1.difference(set2)\n",
        "C.update(set2.difference(set1))\n",
        "ans = list(C)\n",
        "ans.sort()\n",
        "for i in ans:\n",
        "    print i"
      ],
      "execution_count": null,
      "outputs": []
    },
    {
      "cell_type": "code",
      "metadata": {
        "id": "bSQPowA7OxYr"
      },
      "source": [
        "\n",
        "m,n=tuple(map(int,raw_input().split()))\n",
        "arr=list(map(int,raw_input().split()))\n",
        "A=set(map(int,raw_input().split()))\n",
        "B=set(map(int,raw_input().split()))\n",
        "happy=len([x for x in arr if x in A])\n",
        "sad=len([i for i in arr if i in B])\n",
        "print happy-sad"
      ],
      "execution_count": null,
      "outputs": []
    }
  ]
}