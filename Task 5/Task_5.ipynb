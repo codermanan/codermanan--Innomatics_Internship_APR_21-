{
  "nbformat": 4,
  "nbformat_minor": 0,
  "metadata": {
    "colab": {
      "name": "Task 5.ipynb",
      "provenance": []
    },
    "kernelspec": {
      "name": "python3",
      "display_name": "Python 3"
    },
    "language_info": {
      "name": "python"
    }
  },
  "cells": [
    {
      "cell_type": "code",
      "metadata": {
        "id": "6T3GTM-eRUgm"
      },
      "source": [
        "import re\n",
        "\n",
        "n = int(input())\n",
        "deciReg = re.compile(r'(^[+-]?)([0-9])*(\\.[0-9]+$)')\n",
        "def checkReg(s):\n",
        "    mo = deciReg.search(s)\n",
        "    if mo == None:\n",
        "        print('False')\n",
        "    else:\n",
        "        print('True')\n",
        "\n",
        "for i in range(n):\n",
        "    s = input()\n",
        "    checkReg(s)"
      ],
      "execution_count": null,
      "outputs": []
    },
    {
      "cell_type": "code",
      "metadata": {
        "id": "hZt_6nVjqWHl"
      },
      "source": [
        "import re,sys\n",
        "s = input()\n",
        "\n",
        "reg = re.compile(r'([a-z0-9])\\1')\n",
        "mo = reg.search(s)\n",
        "if mo != None:\n",
        "    print(mo.group(1))\n",
        "else:\n",
        "    print(-1)"
      ],
      "execution_count": null,
      "outputs": []
    },
    {
      "cell_type": "code",
      "metadata": {
        "id": "MXXtkbDEqmdV"
      },
      "source": [
        "import re\n",
        "\n",
        "S = input()\n",
        "b = False\n",
        "for each in range(len(S)-2):\n",
        "    for j in range(each, len(S)):\n",
        "        x = re.match(r\"^[QWRTYPSDFGHJKLZXCVBNMqwrtypsdfghjklzxcvbnm][AEIOUaeiou]{2,}[QWRTYPSDFGHJKLZXCVBNMqwrtypsdfghjklzxcvbnm]$\", S[each:j+1])\n",
        "        if x != None:\n",
        "            print(S[each+1:j])\n",
        "            b = True\n",
        "\n",
        "if b == False:\n",
        "    print(-1)"
      ],
      "execution_count": null,
      "outputs": []
    },
    {
      "cell_type": "code",
      "metadata": {
        "id": "YurwFqczq1pS"
      },
      "source": [
        "import re\n",
        "s = input()\n",
        "k = input()\n",
        "p = r'(?=%s)' % k\n",
        "m = re.finditer(p, s)\n",
        "for match in m:\n",
        "    print((match.start(), match.start()+len(k)-1))\n",
        "if not re.search(p, s):\n",
        "    print((-1, -1))"
      ],
      "execution_count": null,
      "outputs": []
    },
    {
      "cell_type": "code",
      "metadata": {
        "id": "uFCKvC5zrG5z"
      },
      "source": [
        "import re\n",
        "\n",
        "def convert(match):\n",
        "    if match.group(0) == '&&':\n",
        "        return 'and'\n",
        "    return 'or'\n",
        "T = int(input())\n",
        "for _ in range(T):\n",
        "    s = input()\n",
        "    print(re.sub(r\"(?<= )((&&)|(\\|\\|))(?= )\", convert, s))"
      ],
      "execution_count": null,
      "outputs": []
    },
    {
      "cell_type": "code",
      "metadata": {
        "id": "oeSw8UyErhYb"
      },
      "source": [
        "import re;\n",
        "N = int(input());\n",
        "for x in range(0,N):\n",
        "    S = input();\n",
        "    match = re.search('[789]\\d+',S);    \n",
        "    if match and len(match.group()) == 10:\n",
        "        print(\"YES\");        \n",
        "    else:\n",
        "        print(\"NO\");"
      ],
      "execution_count": null,
      "outputs": []
    },
    {
      "cell_type": "code",
      "metadata": {
        "id": "PU4RdGqL6IIa"
      },
      "source": [
        "import re\n",
        "\n",
        "N = int(input())\n",
        "for _ in range(N):\n",
        "    tOrg = input().strip()\n",
        "\n",
        "    e = re.search(r'<(.*)>', tOrg)\n",
        "    if e == None:\n",
        "        continue\n",
        "    t = e.group(1).strip()\n",
        "\n",
        "    if re.search(r'^[a-zA-Z][a-zA-Z0-9\\-._]*@[a-zA-Z]+\\.[a-zA-Z]{1,3}$', t) != None:\n",
        "        print(tOrg)"
      ],
      "execution_count": null,
      "outputs": []
    },
    {
      "cell_type": "code",
      "metadata": {
        "id": "2z8S_IAM6WWf"
      },
      "source": [
        "import re\n",
        "N = int(input())\n",
        "CSS = [input() for i in range(N)]\n",
        "C = '0123456789abcdefABCDEF'\n",
        "for i in range(N):\n",
        "    row = re.findall('(?!\\A)(#[a-fA-f_0-9]{6}|#[a-fA-f_0-9]{3})', CSS[i])\n",
        "    if row != []:\n",
        "        for j in row:\n",
        "            print(j)"
      ],
      "execution_count": null,
      "outputs": []
    },
    {
      "cell_type": "code",
      "metadata": {
        "id": "A3iWSG0z6iXP"
      },
      "source": [
        "from html.parser import HTMLParser\n",
        "N = int(input())\n",
        "html = \"\"\n",
        "for i in range(0,N):\n",
        "    html += input()\n",
        "\n",
        "# create a subclass and override the handler methods\n",
        "class MyHTMLParser(HTMLParser):\n",
        "    def handle_starttag(self, tag, attrs):\n",
        "        print (\"Start : {}\".format(tag))\n",
        "#        print(\"Attributes : {}\".format(attrs))\n",
        "        if(len(attrs)):\n",
        "#           print(\"Came in attrs\")\n",
        "            for a,b in attrs:\n",
        "                print(\"-> {} > {}\".format(a,b))\n",
        "    def handle_endtag(self, tag):\n",
        "        print (\"End   : {}\".format(tag))\n",
        "    def handle_startendtag(self, tag, attrs):\n",
        "        print (\"Empty : {}\".format(tag))\n",
        "        if(len(attrs)):\n",
        "            for a,b in attrs:\n",
        "                print(\"-> {} > {}\".format(a,b))\n",
        "\n",
        "\n",
        "parser = MyHTMLParser()\n",
        "parser.feed(html)"
      ],
      "execution_count": null,
      "outputs": []
    },
    {
      "cell_type": "code",
      "metadata": {
        "id": "k1T9-2oT7K2W"
      },
      "source": [
        "from html.parser import HTMLParser\n",
        "\n",
        "class Parser(HTMLParser):\n",
        "    def handle_starttag(self, tag, attrs):\n",
        "        print(tag)\n",
        "        for attr in attrs:\n",
        "            prop,value = attr\n",
        "            print(\"-> \" + prop + \" > \" + value)\n",
        "\n",
        "N=int(input())\n",
        "s=\"\"\n",
        "for i in range(N):\n",
        "    s+= \" \" + input()\n",
        "\n",
        "parser = Parser()\n",
        "parser.feed(s)"
      ],
      "execution_count": null,
      "outputs": []
    },
    {
      "cell_type": "code",
      "metadata": {
        "id": "WR1x7oeK6xN9"
      },
      "source": [
        "from html.parser import HTMLParser\n",
        "html = \"\"\n",
        "class MyHTMLParser(HTMLParser):\n",
        "    def handle_comment(self,data):\n",
        "        if('\\n' in data):\n",
        "            print(\">>> Multi-line Comment\")\n",
        "        else:\n",
        "            print(\">>> Single-line Comment\")\n",
        "        print(data)\n",
        "    def handle_data(self,data):\n",
        "        if(data != '\\n'):\n",
        "            print(\">>> Data\")\n",
        "            print(data)\n",
        "             \n",
        "for i in range(int(input())):\n",
        "    html += input().rstrip()\n",
        "    html += '\\n'\n",
        "#print(html)    \n",
        "parser = MyHTMLParser()\n",
        "parser.feed(html)\n",
        "parser.close()"
      ],
      "execution_count": null,
      "outputs": []
    },
    {
      "cell_type": "code",
      "metadata": {
        "id": "6_MhaYJz7d-3"
      },
      "source": [
        "# start here\n",
        "import re\n",
        "\n",
        "N = int(input())\n",
        "for _ in range(N):\n",
        "    t = input().strip()\n",
        "\n",
        "    if re.search(r'[A-Z].*[A-Z]', t) != None and re.search(r'[0-9].*[0-9].*[0-9]', t) != None and re.search(r'^[a-zA-Z0-9]*$', t) != None and re.search(r'(.).*\\1', t) == None and len(t) == 10:\n",
        "        print('Valid')\n",
        "    else:\n",
        "        print('Invalid')"
      ],
      "execution_count": null,
      "outputs": []
    },
    {
      "cell_type": "code",
      "metadata": {
        "id": "hIAYX7mE7rdj"
      },
      "source": [
        "def isValid(x):\n",
        "    if len(x) not in [16,19]:\n",
        "        return False\n",
        "    if len(x)==19:\n",
        "        if x[4]!='-' or x[9]!='-' or x[14]!='-':\n",
        "            return False\n",
        "    if x[0] not in ['4','5','6']:\n",
        "        return False\n",
        "    if '-' in x:\n",
        "        x=''.join(x.split('-'))\n",
        "    if any(ord(x[i]) not in range(ord('0'),ord('9')+1) for i in range(16)):\n",
        "        return False\n",
        "    if any(str(i)*4 in x for i in range(10)):\n",
        "        return False\n",
        "    return True\n",
        "for _ in range(int(input())):\n",
        "    x=input()\n",
        "    if isValid(x):\n",
        "        print(\"Valid\")\n",
        "    else:\n",
        "        print(\"Invalid\")"
      ],
      "execution_count": null,
      "outputs": []
    },
    {
      "cell_type": "code",
      "metadata": {
        "id": "KBdXvcj-74a-"
      },
      "source": [
        "def isValid(x):\n",
        "    while len(x)!=6:\n",
        "        return False\n",
        "    while not all('0'<=x[i]<='9' for i in range(len(x))):\n",
        "        return False\n",
        "    count=0\n",
        "    i=0\n",
        "    while i<4:\n",
        "        while x[i]==x[i+2]:\n",
        "            count+=1\n",
        "            while count>1:\n",
        "                return False\n",
        "            i+=1\n",
        "            while i>3:\n",
        "                return True\n",
        "        i+=1\n",
        "    return count<2\n",
        "x=input()\n",
        "print(isValid(x))"
      ],
      "execution_count": null,
      "outputs": []
    },
    {
      "cell_type": "code",
      "metadata": {
        "id": "CWArireg8Xjv"
      },
      "source": [
        "import sys\n",
        "import re\n",
        "p = re.compile(r'(?<=\\w)([\\$\\#\\%\\s]+)(?=\\w)')\n",
        "dem = sys.stdin.readline().split();\n",
        "r = int(dem[0])\n",
        "c = int(dem[1])\n",
        "rows = [l for l in sys.stdin]\n",
        "text = \"\";\n",
        "for i in range(c):\n",
        "    for j in range(r):\n",
        "        text = text+rows[j][i]\n",
        "print(p.sub(' ',text))"
      ],
      "execution_count": null,
      "outputs": []
    }
  ]
}