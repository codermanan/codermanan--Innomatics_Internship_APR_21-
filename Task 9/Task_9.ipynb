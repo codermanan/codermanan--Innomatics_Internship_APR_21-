{
  "nbformat": 4,
  "nbformat_minor": 0,
  "metadata": {
    "colab": {
      "name": "Task 9.ipynb",
      "provenance": [],
      "collapsed_sections": []
    },
    "kernelspec": {
      "name": "python3",
      "display_name": "Python 3"
    },
    "language_info": {
      "name": "python"
    }
  },
  "cells": [
    {
      "cell_type": "code",
      "metadata": {
        "id": "CmGOVPvyoOuA"
      },
      "source": [
        "import pandas as pd\n",
        "import numpy as np\n",
        "import matplotlib.pyplot as plt\n",
        "from scipy.stats import t,norm"
      ],
      "execution_count": 1,
      "outputs": []
    },
    {
      "cell_type": "code",
      "metadata": {
        "id": "fTp-VxaIoc7u"
      },
      "source": [
        "def t_score_fun(sample_size, sample_mean, pop_mean, sample_std):\n",
        "    numerator = sample_mean - pop_mean\n",
        "    denomenator = sample_std / sample_size**0.5\n",
        "    return numerator / denomenator"
      ],
      "execution_count": 2,
      "outputs": []
    },
    {
      "cell_type": "markdown",
      "metadata": {
        "id": "OV2Cj78zojfg"
      },
      "source": [
        "\n",
        "\n",
        "Q-1: Pista House selling Hyderabadi Chicken Dum biryani claims that each parcel packet has 500 grams of biryani (also mentioned on the label of packet). You are sceptic of their claims and believe that on average each packet does not contain 500 grams of biryani. How do you prove your claim?\n",
        "\n",
        "Step - 1: Alternate Hypothesis (Bold claim):$$ H_1: \\ \\neq 500 $$Null Hypothesis (Status Quo):$$ H_0: \\ = 500 $$\n",
        "\n",
        "Step - 2:\n",
        "\n",
        "Collect a sample of size n = 10$$ [490, 220, 470, 500, 495, 496, 496, 498, 508, 480] $$ Compute sample mean$$ \\bar{x} \\ = \\ 465.3 $$ Step - 3: Compute Test Statistic, we don't have population's std so we will calculate t-score:$$ t = \\frac{\\bar{x} - \\mu}{S/\\sqrt[2]{n}}$$\n",
        "\n",
        "Step - 4: Decide $ \\alpha $ or significance level\n",
        "\n",
        "Step - 5.1: two tailed t-test:$$ reject \\ H_0 \\ if \\ \\ |t| &gt; t_{n-1,\\frac{\\alpha}{2}} $$\n",
        "\n",
        "Step - 5.2: Compute p-value\n"
      ]
    },
    {
      "cell_type": "code",
      "metadata": {
        "colab": {
          "base_uri": "https://localhost:8080/"
        },
        "id": "N328i4m4oo1l",
        "outputId": "2b3dd007-f3d9-4fb2-c145-4c62d8dd6000"
      },
      "source": [
        "pop_mean = 500\n",
        "\n",
        "l = [490, 220, 470, 500, 495, 496, 496, 498, 508, 480]\n",
        "sample_size = len(l)\n",
        "sample_mean = sum(l)/len(l)\n",
        "\n",
        "print(sample_mean)"
      ],
      "execution_count": 3,
      "outputs": [
        {
          "output_type": "stream",
          "text": [
            "465.3\n"
          ],
          "name": "stdout"
        }
      ]
    },
    {
      "cell_type": "code",
      "metadata": {
        "colab": {
          "base_uri": "https://localhost:8080/"
        },
        "id": "gD2Lzo0Jo3-8",
        "outputId": "2c98aac5-7d66-42fd-fbfc-4cbe930175f9"
      },
      "source": [
        "# Calculating the std of sample\n",
        "\n",
        "sample_std = []\n",
        "for i in l:\n",
        "    sample_std.append((i-sample_mean)**2)\n",
        "    \n",
        "sample_std = (sum(sample_std)/len(l))**0.5\n",
        "print(sample_std)"
      ],
      "execution_count": 4,
      "outputs": [
        {
          "output_type": "stream",
          "text": [
            "82.3918078451978\n"
          ],
          "name": "stdout"
        }
      ]
    },
    {
      "cell_type": "code",
      "metadata": {
        "colab": {
          "base_uri": "https://localhost:8080/"
        },
        "id": "ZDrn3we7o7XC",
        "outputId": "af470701-5484-493a-b7ef-d4266c32ca0b"
      },
      "source": [
        "# Right Tail - Calculating the t-critical value\n",
        "\n",
        "confidence_level = 0.95\n",
        "alpha = 1 - confidence_level\n",
        "df = len(l)-1\n",
        "t_critical = t.ppf(1 - alpha/2, df) # One tailed t score for 95% Confidence Level\n",
        "\n",
        "print(t_critical)"
      ],
      "execution_count": 5,
      "outputs": [
        {
          "output_type": "stream",
          "text": [
            "2.2621571627409915\n"
          ],
          "name": "stdout"
        }
      ]
    },
    {
      "cell_type": "code",
      "metadata": {
        "colab": {
          "base_uri": "https://localhost:8080/"
        },
        "id": "PKFL5CdIo9wY",
        "outputId": "f43ffed6-6578-4f1b-ab74-faa7a4a763de"
      },
      "source": [
        "# Calculating the t-score\n",
        "\n",
        "t_score = t_score_fun(sample_size, sample_mean, pop_mean, sample_std)\n",
        "print(t_score)"
      ],
      "execution_count": 6,
      "outputs": [
        {
          "output_type": "stream",
          "text": [
            "-1.3318197242863192\n"
          ],
          "name": "stdout"
        }
      ]
    },
    {
      "cell_type": "code",
      "metadata": {
        "id": "21vUXABLpCBc"
      },
      "source": [
        "# Ploting the sampling distribution with rejection regions\n",
        "\n",
        "# Defining the x minimum and x maximum\n",
        "x_min = 400\n",
        "x_max = 600\n",
        "\n",
        "# Defining the sampling distribution mean and sampling distribution std\n",
        "mean = pop_mean\n",
        "std = sample_std / sample_size**0.5\n",
        "\n",
        "# Ploting the graph and setting the x limits\n",
        "x = np.linspace(x_min, x_max, 100)\n",
        "y = norm.pdf(x, mean, std)\n",
        "plt.xlim(x_min, x_max)\n",
        "plt.plot(x, y)\n",
        "\n",
        "# Computing the left and right critical values (Two tailed Test)\n",
        "t_critical_left = pop_mean + (-t_critical * std)\n",
        "t_critical_right = pop_mean + (t_critical * std)\n",
        "\n",
        "# Shading the left rejection region\n",
        "x1 = np.linspace(x_min, t_critical_left, 100)\n",
        "y1 = norm.pdf(x1, mean, std)\n",
        "plt.fill_between(x1, y1, color='orange')\n",
        "\n",
        "# Shading the right rejection region\n",
        "x2 = np.linspace(t_critical_right, x_max, 100)\n",
        "y2 = norm.pdf(x2, mean, std)\n",
        "plt.fill_between(x2, y2, color='orange')\n",
        "\n",
        "# Ploting the sample mean and concluding the results \n",
        "plt.scatter(sample_mean, 0)\n",
        "plt.annotate(\"x_bar\", (sample_mean, 0.0007))\n",
        "\n",
        "# In this case sample mean falls in the acceptance region\n",
        "# i.e. here we fail to reject the Null Hypothesis"
      ],
      "execution_count": null,
      "outputs": []
    },
    {
      "cell_type": "code",
      "metadata": {
        "colab": {
          "base_uri": "https://localhost:8080/"
        },
        "id": "9bTxW5bJpywX",
        "outputId": "012a4aa4-baea-41db-9d72-1ec78c14b791"
      },
      "source": [
        "if(np.abs(t_score) > t_critical):\n",
        "    print(\"Reject Null Hypothesis\")\n",
        "else:\n",
        "    print(\"Fail to reject Null Hypothesis\")"
      ],
      "execution_count": 8,
      "outputs": [
        {
          "output_type": "stream",
          "text": [
            "Fail to reject Null Hypothesis\n"
          ],
          "name": "stdout"
        }
      ]
    },
    {
      "cell_type": "markdown",
      "metadata": {
        "id": "NxFk2-Qap4rn"
      },
      "source": [
        "\n",
        "\n",
        "Q-2: You have developed a new Natural Language Processing Algorithms and done a user study. You claim that the average rating given by the users is greater than 4 on a scale of 1 to 5. How do you prove this to your client?\n",
        "\n",
        "Step - 1: Alternate Hypothesis (Bold Claim):$$ H_1: \\ &gt; 4 $$Null Hypothesis (Status Quo):$$ H_0: \\ &lt;= 4 $$\n",
        "\n",
        "Step - 2:\n",
        "\n",
        "Collect a sample of size n = 10$$ [4, 3, 5, 4, 5, 3, 5, 5, 4, 2, 4, 5, 5, 4, 4, 5, 4, 5, 4, 5] $$ Compute sample mean$$ \\bar{x} \\ = \\ 4.25 $$ Step - 3: Compute Test Statistic:$$ t = \\frac{\\bar{x} - \\mu}{S/\\sqrt[2]{n}}$$\n",
        "\n",
        "Step - 4: Decide $ \\alpha $\n",
        "\n",
        "Step - 5.1: right tailed t-test:$$ reject \\ H_0 \\ if \\ \\ t &gt; t_{n-1,\\alpha} $$\n",
        "\n",
        "Step - 5.2: Compute p-value\n"
      ]
    },
    {
      "cell_type": "code",
      "metadata": {
        "colab": {
          "base_uri": "https://localhost:8080/"
        },
        "id": "Nm-o0zw2qBTW",
        "outputId": "54ef80e7-fac0-4f2d-9e79-74c9c3bd6689"
      },
      "source": [
        "pop_mean = 4\n",
        "\n",
        "l = [4, 3, 5, 4, 5, 3, 5, 5, 4, 2, 4, 5, 5, 4, 4, 5, 4, 5, 4, 5]\n",
        "sample_size = len(l)\n",
        "sample_mean = sum(l)/len(l)\n",
        "\n",
        "print(sample_mean)"
      ],
      "execution_count": 9,
      "outputs": [
        {
          "output_type": "stream",
          "text": [
            "4.25\n"
          ],
          "name": "stdout"
        }
      ]
    },
    {
      "cell_type": "code",
      "metadata": {
        "colab": {
          "base_uri": "https://localhost:8080/"
        },
        "id": "9oRcc0b1qwJ1",
        "outputId": "eaa81e2f-9da1-4ca8-e79f-cd92dd49d6c5"
      },
      "source": [
        "# Calculating the std of sample\n",
        "\n",
        "sample_std = []\n",
        "for i in l:\n",
        "    sample_std.append((i-sample_mean)**2)\n",
        "    \n",
        "sample_std = (sum(sample_std)/len(l))**0.5\n",
        "print(sample_std)"
      ],
      "execution_count": 10,
      "outputs": [
        {
          "output_type": "stream",
          "text": [
            "0.82915619758885\n"
          ],
          "name": "stdout"
        }
      ]
    },
    {
      "cell_type": "code",
      "metadata": {
        "colab": {
          "base_uri": "https://localhost:8080/"
        },
        "id": "6dvAv9Jdq0ZW",
        "outputId": "b26c476c-3dfc-4cc7-a22f-10a01a8e3de5"
      },
      "source": [
        "\n",
        "\n",
        "# Right Tail - Calculating the t-critical value\n",
        "\n",
        "confidence_level = 0.95\n",
        "alpha = 1 - confidence_level\n",
        "df = len(l)-1\n",
        "t_critical = t.ppf(1 - alpha, df) # One tailed t score for 95% Confidence Level\n",
        "\n",
        "print(t_critical)\n",
        "\n"
      ],
      "execution_count": 11,
      "outputs": [
        {
          "output_type": "stream",
          "text": [
            "1.729132811521367\n"
          ],
          "name": "stdout"
        }
      ]
    },
    {
      "cell_type": "code",
      "metadata": {
        "colab": {
          "base_uri": "https://localhost:8080/"
        },
        "id": "scrx-TJFq3Oh",
        "outputId": "aa1da671-b42d-4677-f671-1decb22e0c55"
      },
      "source": [
        "# Calculating the t-score\n",
        "\n",
        "t_score = t_score_fun(sample_size, sample_mean, pop_mean, sample_std)\n",
        "print(t_score)"
      ],
      "execution_count": 12,
      "outputs": [
        {
          "output_type": "stream",
          "text": [
            "1.3483997249264843\n"
          ],
          "name": "stdout"
        }
      ]
    },
    {
      "cell_type": "code",
      "metadata": {
        "colab": {
          "base_uri": "https://localhost:8080/",
          "height": 284
        },
        "id": "QjPLDonnq7V6",
        "outputId": "cc00209f-beff-4e71-830d-f1f5811625e3"
      },
      "source": [
        "# Ploting the sampling distribution with rejection regions\n",
        "\n",
        "# Defining the x minimum and x maximum\n",
        "x_min = 3.5\n",
        "x_max = 4.5\n",
        "\n",
        "# Defining the sampling distribution mean and sampling distribution std\n",
        "mean = pop_mean\n",
        "std = sample_std / sample_size**0.5\n",
        "\n",
        "# Ploting the graph and setting the x limits\n",
        "x = np.linspace(x_min, x_max, 100)\n",
        "y = norm.pdf(x, mean, std)\n",
        "plt.xlim(x_min, x_max)\n",
        "plt.plot(x, y)\n",
        "\n",
        "# Computing the right critical values (One tailed Test)\n",
        "t_critical_right = pop_mean + (t_critical * std)\n",
        "\n",
        "# Shading the right rejection region\n",
        "x1 = np.linspace(t_critical_right, x_max, 100)\n",
        "y1 = norm.pdf(x1, mean, std)\n",
        "plt.fill_between(x1, y1, color='orange')\n",
        "\n",
        "# Ploting the sample mean and concluding the results \n",
        "plt.scatter(sample_mean, 0)\n",
        "plt.annotate(\"x_bar\", (sample_mean, 0.0007))\n",
        "\n",
        "# In this case sample mean falls in the acceptance region\n",
        "# i.e. here we fail to reject the Null Hypothesis"
      ],
      "execution_count": 13,
      "outputs": [
        {
          "output_type": "execute_result",
          "data": {
            "text/plain": [
              "Text(4.25, 0.0007, 'x_bar')"
            ]
          },
          "metadata": {
            "tags": []
          },
          "execution_count": 13
        },
        {
          "output_type": "display_data",
          "data": {
            "image/png": "[encoded data removed]",
            "text/plain": [
              "<Figure size 432x288 with 1 Axes>"
            ]
          },
          "metadata": {
            "tags": [],
            "needs_background": "light"
          }
        }
      ]
    },
    {
      "cell_type": "code",
      "metadata": {
        "colab": {
          "base_uri": "https://localhost:8080/"
        },
        "id": "R7oRBMcaq__o",
        "outputId": "0e1eec50-9d5d-4992-eb7c-08dc4972a326"
      },
      "source": [
        "# Conclusion using t test\n",
        "\n",
        "if(np.abs(t_score) > t_critical):\n",
        "    print(\"Reject Null Hypothesis\")\n",
        "else:\n",
        "    print(\"Fail to reject Null Hypothesis\")"
      ],
      "execution_count": 14,
      "outputs": [
        {
          "output_type": "stream",
          "text": [
            "Fail to reject Null Hypothesis\n"
          ],
          "name": "stdout"
        }
      ]
    },
    {
      "cell_type": "code",
      "metadata": {
        "colab": {
          "base_uri": "https://localhost:8080/"
        },
        "id": "w0FZun9hrEUC",
        "outputId": "f708d8a8-55d7-4c0a-a9ff-b1af3a15185f"
      },
      "source": [
        "\n",
        "\n",
        "# Conclusion using p test\n",
        "\n",
        "p_value = 1.0 - norm.cdf(np.abs(t_score))\n",
        "print(\"p_value = \", p_value)\n",
        "\n",
        "if(p_value < alpha):\n",
        "    print(\"Reject Null Hypothesis\")\n",
        "else:\n",
        "    print(\"Fail to reject Null Hypothesis\")\n",
        "\n"
      ],
      "execution_count": 15,
      "outputs": [
        {
          "output_type": "stream",
          "text": [
            "p_value =  0.08876492620607679\n",
            "Fail to reject Null Hypothesis\n"
          ],
          "name": "stdout"
        }
      ]
    },
    {
      "cell_type": "markdown",
      "metadata": {
        "id": "aX9CwCSPrKxb"
      },
      "source": [
        "\n",
        "\n",
        "Q-3: TATA has developed a better fuel management system for the SUV segment. They claim that with this system, on average the SUV's mileage is at least 15 km/litre?\n",
        "\n",
        "Step - 1: Alternate Hypothesis (Bold Claim):$$ H_1: \\ &gt; 15 $$Null Hypothesis (Status Quo):$$ H_0: \\ &lt;= 15 $$\n",
        "\n",
        "Step - 2:\n",
        "\n",
        "Collect a sample of size n = 20$$ [14.08, 14.13, 15.65, 13.78, 16.26, 14.97, 15.36, 15.81, 14.53, 16.79, 15.78, 16.98, 13.23, 15.43, 15.46, 13.88, 14.31, 14.41, 15.76, 15.38] $$ Compute sample mean$$ \\bar{x} \\ = \\ 15.1 $$ Step - 3: Compute Test Statistic:$$ t = \\frac{\\bar{x} - \\mu}{S/\\sqrt[2]{n}}$$\n",
        "\n",
        "Step - 4: Decide $ \\alpha $\n",
        "\n",
        "Step - 5.1: right tailed t-test:$$ reject \\ H_0 \\ if \\ \\ t &gt; t_{n-1,\\alpha} $$\n",
        "\n",
        "Step - 5.2: Compute p-value\n"
      ]
    },
    {
      "cell_type": "code",
      "metadata": {
        "colab": {
          "base_uri": "https://localhost:8080/"
        },
        "id": "eufyH2nCrQ9r",
        "outputId": "80cdf56d-2333-413b-bcc7-1ad1b633974d"
      },
      "source": [
        "pop_mean = 15\n",
        "\n",
        "l = [14.08, 14.13, 15.65, 13.78, 16.26, 14.97, 15.36, 15.81, 14.53, 16.79, 15.78,\n",
        "     16.98, 13.23, 15.43, 15.46, 13.88, 14.31, 14.41, 15.76, 15.38]\n",
        "sample_size = len(l)\n",
        "sample_mean = sum(l)/len(l)\n",
        "\n",
        "print(sample_mean)"
      ],
      "execution_count": 16,
      "outputs": [
        {
          "output_type": "stream",
          "text": [
            "15.098999999999998\n"
          ],
          "name": "stdout"
        }
      ]
    },
    {
      "cell_type": "code",
      "metadata": {
        "colab": {
          "base_uri": "https://localhost:8080/"
        },
        "id": "IUv5OvUArUv0",
        "outputId": "bcd8c266-6497-4116-cca1-1d1dcfd27e6b"
      },
      "source": [
        "# Calculating the std of sample\n",
        "\n",
        "sample_std = []\n",
        "for i in l:\n",
        "    sample_std.append((i-sample_mean)**2)\n",
        "    \n",
        "sample_std = (sum(sample_std)/len(l))**0.5\n",
        "print(sample_std)"
      ],
      "execution_count": 17,
      "outputs": [
        {
          "output_type": "stream",
          "text": [
            "0.9994043225842081\n"
          ],
          "name": "stdout"
        }
      ]
    },
    {
      "cell_type": "code",
      "metadata": {
        "colab": {
          "base_uri": "https://localhost:8080/"
        },
        "id": "TrxmiBs4rYL8",
        "outputId": "4517540c-cbe4-4a08-f27c-81769ecfa5b8"
      },
      "source": [
        "# Right Tail - Calculating the t-critical value\n",
        "\n",
        "confidence_level = 0.95\n",
        "alpha = 1 - confidence_level\n",
        "df = len(l)-1\n",
        "t_critical = t.ppf(1 - alpha, df) # One tailed t score for 95% Confidence Level\n",
        "\n",
        "print(t_critical)"
      ],
      "execution_count": 18,
      "outputs": [
        {
          "output_type": "stream",
          "text": [
            "1.729132811521367\n"
          ],
          "name": "stdout"
        }
      ]
    },
    {
      "cell_type": "code",
      "metadata": {
        "colab": {
          "base_uri": "https://localhost:8080/"
        },
        "id": "qyeeHuULra6O",
        "outputId": "3a8ee626-7d67-46cc-f906-e26420f3a887"
      },
      "source": [
        "# Calculating the t-score\n",
        "\n",
        "t_score = t_score_fun(sample_size, sample_mean, pop_mean, sample_std)\n",
        "print(t_score)"
      ],
      "execution_count": 19,
      "outputs": [
        {
          "output_type": "stream",
          "text": [
            "0.44300534782572615\n"
          ],
          "name": "stdout"
        }
      ]
    },
    {
      "cell_type": "code",
      "metadata": {
        "colab": {
          "base_uri": "https://localhost:8080/",
          "height": 284
        },
        "id": "LsGu08ptreaF",
        "outputId": "20bc8c84-4384-4aed-d7aa-41d41bd2a222"
      },
      "source": [
        "# Ploting the sampling distribution with rejection regions\n",
        "\n",
        "# Defining the x minimum and x maximum\n",
        "x_min = 13\n",
        "x_max = 17\n",
        "\n",
        "# Defining the sampling distribution mean and sampling distribution std\n",
        "mean = pop_mean\n",
        "std = sample_std / sample_size**0.5\n",
        "\n",
        "# Ploting the graph and setting the x limits\n",
        "x = np.linspace(x_min, x_max, 100)\n",
        "y = norm.pdf(x, mean, std)\n",
        "plt.xlim(x_min, x_max)\n",
        "plt.plot(x, y)\n",
        "\n",
        "# Computing the right critical values (One tailed Test)\n",
        "t_critical_right = pop_mean + (t_critical * std)\n",
        "\n",
        "# Shading the right rejection region\n",
        "x1 = np.linspace(t_critical_right, x_max, 100)\n",
        "y1 = norm.pdf(x1, mean, std)\n",
        "plt.fill_between(x1, y1, color='orange')\n",
        "\n",
        "# Ploting the sample mean and concluding the results \n",
        "plt.scatter(sample_mean, 0)\n",
        "plt.annotate(\"x_bar\", (sample_mean, 0.0007))\n",
        "\n",
        "# In this case sample mean falls in the acceptance region\n",
        "# i.e. here we fail to reject the Null Hypothesis"
      ],
      "execution_count": 20,
      "outputs": [
        {
          "output_type": "execute_result",
          "data": {
            "text/plain": [
              "Text(15.098999999999998, 0.0007, 'x_bar')"
            ]
          },
          "metadata": {
            "tags": []
          },
          "execution_count": 20
        },
        {
          "output_type": "display_data",
          "data": {
            "image/png": "[encoded data removed]",
            "text/plain": [
              "<Figure size 432x288 with 1 Axes>"
            ]
          },
          "metadata": {
            "tags": [],
            "needs_background": "light"
          }
        }
      ]
    },
    {
      "cell_type": "code",
      "metadata": {
        "colab": {
          "base_uri": "https://localhost:8080/"
        },
        "id": "aENANDxrridq",
        "outputId": "4ad6134b-99b2-4833-86f6-053098617028"
      },
      "source": [
        "# Conclusion using t test\n",
        "\n",
        "if(np.abs(t_score) > t_critical):\n",
        "    print(\"Reject Null Hypothesis\")\n",
        "else:\n",
        "    print(\"Fail to reject Null Hypothesis\")"
      ],
      "execution_count": 21,
      "outputs": [
        {
          "output_type": "stream",
          "text": [
            "Fail to reject Null Hypothesis\n"
          ],
          "name": "stdout"
        }
      ]
    },
    {
      "cell_type": "code",
      "metadata": {
        "colab": {
          "base_uri": "https://localhost:8080/"
        },
        "id": "wTUqnAanrlY6",
        "outputId": "8677562c-3fca-42d5-9640-2ac311e80f8f"
      },
      "source": [
        "# Conclusion using p test\n",
        "\n",
        "p_value = 1.0 - norm.cdf(np.abs(t_score))\n",
        "print(\"p_value = \", p_value)\n",
        "\n",
        "if(p_value < alpha):\n",
        "    print(\"Reject Null Hypothesis\")\n",
        "else:\n",
        "    print(\"Fail to reject Null Hypothesis\")"
      ],
      "execution_count": 22,
      "outputs": [
        {
          "output_type": "stream",
          "text": [
            "p_value =  0.32888093328445067\n",
            "Fail to reject Null Hypothesis\n"
          ],
          "name": "stdout"
        }
      ]
    },
    {
      "cell_type": "markdown",
      "metadata": {
        "id": "pGEFX63Frp-Y"
      },
      "source": [
        "\n",
        "\n",
        "Q-4: You have developed a new Machine Learning Application and claim that on average it takes less than 100 ms to predict for any future datapoint. How do you convince your client about this claim?\n",
        "\n",
        "Step - 1: Alternate Hypothesis (Bold Claim):$$ H_1: \\ &lt; 100 $$Null Hypothesis (Status Quo):$$ H_0: \\ &gt;= 100 $$\n",
        "\n",
        "Step - 2:\n",
        "\n",
        "Collect a sample of size n = 20$$ [100.08, 102.13, 98.65, 94.78, 96.26, 100.97, 98.36, 100.81, 99.53, 97.79, 101.78, 103.98, 94.23, 92.43, 91.46, 95.88, 98.31, 99.41, 105.76, 90.38] $$ Compute sample mean$$ \\bar{x} \\ = \\ 98.149 $$ Step - 3: Compute Test Statistic:$$ t = \\frac{\\bar{x} - \\mu}{S/\\sqrt[2]{n}}$$\n",
        "\n",
        "Step - 4: Decide $ \\alpha $\n",
        "\n",
        "Step - 5.1: left tailed t-test:$$ reject \\ H_0 \\ if \\ \\ t &lt; t_{n-1,\\alpha} $$\n",
        "\n",
        "Step - 5.2: Compute p-value\n"
      ]
    },
    {
      "cell_type": "code",
      "metadata": {
        "colab": {
          "base_uri": "https://localhost:8080/"
        },
        "id": "yePF4QgyruXv",
        "outputId": "34dc1900-1028-414c-f69d-f7646e77236a"
      },
      "source": [
        "pop_mean = 100\n",
        "\n",
        "l = [100.08, 102.13, 98.65, 94.78, 96.26, 100.97, 98.36, 100.81, 99.53, 97.79, 101.78,\n",
        "     103.98, 94.23, 92.43, 91.46, 95.88, 98.31, 99.41, 105.76, 90.38]\n",
        "sample_size = len(l)\n",
        "sample_mean = sum(l)/len(l)\n",
        "\n",
        "print(sample_mean)"
      ],
      "execution_count": 23,
      "outputs": [
        {
          "output_type": "stream",
          "text": [
            "98.149\n"
          ],
          "name": "stdout"
        }
      ]
    },
    {
      "cell_type": "code",
      "metadata": {
        "colab": {
          "base_uri": "https://localhost:8080/"
        },
        "id": "kSglGmVJrw6w",
        "outputId": "380cec7f-870a-453a-d3cd-d146c71d3c47"
      },
      "source": [
        "# Calculating the std of sample\n",
        "\n",
        "sample_std = []\n",
        "for i in l:\n",
        "    sample_std.append((i-sample_mean)**2)\n",
        "    \n",
        "sample_std = (sum(sample_std)/len(l))**0.5\n",
        "print(sample_std)"
      ],
      "execution_count": 24,
      "outputs": [
        {
          "output_type": "stream",
          "text": [
            "3.980629221618111\n"
          ],
          "name": "stdout"
        }
      ]
    },
    {
      "cell_type": "code",
      "metadata": {
        "colab": {
          "base_uri": "https://localhost:8080/"
        },
        "id": "EEfNRMuTrzVc",
        "outputId": "bbf6a49d-598d-4ca7-94f2-b447cacb0b13"
      },
      "source": [
        "\n",
        "\n",
        "# Right Tail - Calculating the t-critical value\n",
        "\n",
        "confidence_level = 0.95\n",
        "alpha = 1 - confidence_level\n",
        "df = len(l)-1\n",
        "t_critical = t.ppf(1 - alpha, df) # One tailed t score for 95% Confidence Level\n",
        "\n",
        "print(t_critical)\n",
        "\n"
      ],
      "execution_count": 25,
      "outputs": [
        {
          "output_type": "stream",
          "text": [
            "1.729132811521367\n"
          ],
          "name": "stdout"
        }
      ]
    },
    {
      "cell_type": "code",
      "metadata": {
        "colab": {
          "base_uri": "https://localhost:8080/"
        },
        "id": "AtYbPSrqr2CZ",
        "outputId": "ddfd6583-0a2b-499e-ed76-28530dfe7f07"
      },
      "source": [
        "# Calculating the t-score\n",
        "\n",
        "t_score = t_score_fun(sample_size, sample_mean, pop_mean, sample_std)\n",
        "print(t_score)"
      ],
      "execution_count": 26,
      "outputs": [
        {
          "output_type": "stream",
          "text": [
            "-2.079551546209891\n"
          ],
          "name": "stdout"
        }
      ]
    },
    {
      "cell_type": "code",
      "metadata": {
        "colab": {
          "base_uri": "https://localhost:8080/",
          "height": 284
        },
        "id": "7KFs752Ur5ba",
        "outputId": "e2c758ab-0262-47d1-e3a4-31d60e15a641"
      },
      "source": [
        "\n",
        "\n",
        "# Ploting the sampling distribution with rejection regions\n",
        "\n",
        "# Defining the x minimum and x maximum\n",
        "x_min = 90.38\n",
        "x_max = 105.76\n",
        "\n",
        "# Defining the sampling distribution mean and sampling distribution std\n",
        "mean = pop_mean\n",
        "std = sample_std / sample_size**0.5\n",
        "\n",
        "# Ploting the graph and setting the x limits\n",
        "x = np.linspace(x_min, x_max, 100)\n",
        "y = norm.pdf(x, mean, std)\n",
        "plt.xlim(x_min, x_max)\n",
        "plt.plot(x, y)\n",
        "\n",
        "# Computing the right critical values (One tailed Test)\n",
        "t_critical_right = pop_mean + (t_critical * std)\n",
        "\n",
        "# Shading the right rejection region\n",
        "x1 = np.linspace(t_critical_right, x_max, 100)\n",
        "y1 = norm.pdf(x1, mean, std)\n",
        "plt.fill_between(x1, y1, color='orange')\n",
        "\n",
        "# Ploting the sample mean and concluding the results \n",
        "plt.scatter(sample_mean, 0)\n",
        "plt.annotate(\"x_bar\", (sample_mean, 0.0007))\n",
        "\n",
        "# In this case sample mean falls in the acceptance region\n",
        "# i.e. here we fail to reject the Null Hypothesis\n",
        "\n"
      ],
      "execution_count": 27,
      "outputs": [
        {
          "output_type": "execute_result",
          "data": {
            "text/plain": [
              "Text(98.149, 0.0007, 'x_bar')"
            ]
          },
          "metadata": {
            "tags": []
          },
          "execution_count": 27
        },
        {
          "output_type": "display_data",
          "data": {
            "image/png": "[encoded data removed]",
            "text/plain": [
              "<Figure size 432x288 with 1 Axes>"
            ]
          },
          "metadata": {
            "tags": [],
            "needs_background": "light"
          }
        }
      ]
    },
    {
      "cell_type": "code",
      "metadata": {
        "colab": {
          "base_uri": "https://localhost:8080/"
        },
        "id": "6BqsfYDir9OZ",
        "outputId": "d5c0f31c-c67d-424d-ed9e-2eed2ff1689f"
      },
      "source": [
        "# Conclusion using t test\n",
        "\n",
        "if(np.abs(t_score) > t_critical):\n",
        "    print(\"Reject Null Hypothesis\")\n",
        "else:\n",
        "    print(\"Fail to reject Null Hypothesis\")"
      ],
      "execution_count": 28,
      "outputs": [
        {
          "output_type": "stream",
          "text": [
            "Reject Null Hypothesis\n"
          ],
          "name": "stdout"
        }
      ]
    },
    {
      "cell_type": "code",
      "metadata": {
        "colab": {
          "base_uri": "https://localhost:8080/"
        },
        "id": "DTljLx2OsA7V",
        "outputId": "18287e64-d2bb-47e0-b4b9-4a10c537c79b"
      },
      "source": [
        "# Conclusion using p test\n",
        "\n",
        "p_value = 1.0 - norm.cdf(np.abs(t_score))\n",
        "print(\"p_value = \", p_value)\n",
        "\n",
        "if(p_value < alpha):\n",
        "    print(\"Reject Null Hypothesis\")\n",
        "else:\n",
        "    print(\"Fail to reject Null Hypothesis\")"
      ],
      "execution_count": 29,
      "outputs": [
        {
          "output_type": "stream",
          "text": [
            "p_value =  0.018783342602787356\n",
            "Reject Null Hypothesis\n"
          ],
          "name": "stdout"
        }
      ]
    },
    {
      "cell_type": "code",
      "metadata": {
        "id": "VB3OkosnsEto"
      },
      "source": [
        ""
      ],
      "execution_count": null,
      "outputs": []
    }
  ]
}